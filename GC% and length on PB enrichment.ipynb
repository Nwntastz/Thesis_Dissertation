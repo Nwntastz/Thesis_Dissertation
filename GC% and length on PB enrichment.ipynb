{
 "cells": [
  {
   "cell_type": "code",
   "execution_count": 1,
   "id": "58eb7d3a",
   "metadata": {},
   "outputs": [],
   "source": [
    "import pandas as pd\n",
    "import json \n",
    "from statannot import add_stat_annotation\n",
    "import seaborn as sns\n",
    "from Bio.SeqUtils import GC\n",
    "import matplotlib.pyplot as plt\n",
    "import numpy as np\n",
    "from scipy.stats import stats"
   ]
  },
  {
   "cell_type": "code",
   "execution_count": 20,
   "id": "f37c783b",
   "metadata": {},
   "outputs": [],
   "source": [
    "from itertools import combinations"
   ]
  },
  {
   "cell_type": "code",
   "execution_count": 21,
   "id": "dc0872e4",
   "metadata": {},
   "outputs": [],
   "source": [
    "df=pd.read_excel(r\"C:\\Users\\nwntas\\Enriched transcripts.xlsx\",header=[1])"
   ]
  },
  {
   "cell_type": "code",
   "execution_count": 237,
   "id": "3bb4b6e2",
   "metadata": {},
   "outputs": [],
   "source": [
    "half_life=pd.read_excel(r\"C:\\Users\\nwntas\\Downloads\\pnas.1712312115.sd01.xlsx\",sheet_name=\"S2-Modeling Results\",skiprows=[0,1,2,3])"
   ]
  },
  {
   "cell_type": "code",
   "execution_count": 238,
   "id": "4bb7fe32",
   "metadata": {},
   "outputs": [
    {
     "name": "stderr",
     "output_type": "stream",
     "text": [
      "C:\\Users\\nwntas\\AppData\\Local\\Temp\\ipykernel_11436\\233326238.py:1: RuntimeWarning: divide by zero encountered in double_scalars\n",
      "  WT_half_lives=dict(zip(half_life[\"Unnamed: 0\"].to_list(),map(lambda x: np.log(2)/x, half_life['alpha_WT'].to_list())))\n"
     ]
    }
   ],
   "source": [
    "WT_half_lives=dict(zip(half_life[\"Unnamed: 0\"].to_list(),map(lambda x: np.log(2)/x, half_life['alpha_WT'].to_list())))"
   ]
  },
  {
   "cell_type": "code",
   "execution_count": 22,
   "id": "df309737",
   "metadata": {},
   "outputs": [],
   "source": [
    "import json\n",
    "with open(r\"C:/Users/nwntas/RCBS_scores.json\") as f:\n",
    "    MFEde_UTR3=json.load(f)\n",
    "MFEde_UTR3=dict(map(lambda x:(x[0][:-2],x[1]),MFEde_UTR3.items()))"
   ]
  },
  {
   "cell_type": "code",
   "execution_count": 23,
   "id": "e1b64068",
   "metadata": {},
   "outputs": [],
   "source": [
    "MFEde_UTR3=dict(filter(lambda x: not np.isnan(x[1]),MFEde_UTR3.items()))"
   ]
  },
  {
   "cell_type": "code",
   "execution_count": 426,
   "id": "36d606d1",
   "metadata": {},
   "outputs": [],
   "source": [
    "#MFEde_UTR3=dict(map(lambda x: (x[0],x[1][0]), MFEde_UTR3.items()))"
   ]
  },
  {
   "cell_type": "code",
   "execution_count": null,
   "id": "987bfbf7",
   "metadata": {},
   "outputs": [],
   "source": []
  },
  {
   "cell_type": "code",
   "execution_count": 908,
   "id": "71d0f1f6",
   "metadata": {},
   "outputs": [],
   "source": [
    "df2=pd.read_excel(r\"C:\\Users\\nwntas\\co_regulons_new_andria.xlsx\", sheet_name=\"HS APEAL RIP up 0.8\")\n",
    "coRegs_heat=list(df2['Co-regulons'].dropna().unique())"
   ]
  },
  {
   "cell_type": "code",
   "execution_count": 909,
   "id": "94a3081f",
   "metadata": {},
   "outputs": [],
   "source": [
    "df2=pd.read_excel(r\"C:\\Users\\nwntas\\co_regulons_new_andria.xlsx\", sheet_name=\"NS APEAL RIP up 0.8\")\n",
    "coRegs_mock=list(df2['Co-regulons'].dropna().unique())"
   ]
  },
  {
   "cell_type": "code",
   "execution_count": 24,
   "id": "86746ec5",
   "metadata": {},
   "outputs": [],
   "source": [
    "from collections import defaultdict\n",
    "\n",
    "dic=defaultdict(str)\n",
    "with open(r\"C:/Users/nwntas/Araport11_cds_20220914\") as f:\n",
    "    line='1'\n",
    "    while line:\n",
    "        line=f.readline().strip()\n",
    "        if \">\" in line:\n",
    "            name=line[1:line.index(\"|\")-1]\n",
    "            continue\n",
    "        dic[name]+=line  "
   ]
  },
  {
   "cell_type": "code",
   "execution_count": 25,
   "id": "fedb020f",
   "metadata": {},
   "outputs": [],
   "source": [
    "CDS=dict(dic)\n",
    "CDS=dict(map(lambda x: (x[0][:-2],x[1]),filter(lambda x: \".1\" in x[0],CDS.items())))"
   ]
  },
  {
   "cell_type": "code",
   "execution_count": 5,
   "id": "2717f5ca",
   "metadata": {},
   "outputs": [],
   "source": [
    "import json\n",
    "with open(r\"C:\\Users\\nwntas\\UTR3.json\",\"w\") as f:\n",
    "    json.dump(dic,f)"
   ]
  },
  {
   "cell_type": "code",
   "execution_count": 35,
   "id": "88e332a9",
   "metadata": {},
   "outputs": [],
   "source": [
    "CDS=dict(filter(lambda x:x[0] in LogFC,CDS.items()))"
   ]
  },
  {
   "cell_type": "code",
   "execution_count": 18,
   "id": "eab7d38f",
   "metadata": {},
   "outputs": [],
   "source": [
    "import json\n",
    "with open(r\"C:\\Users\\nwntas\\UTR5_Length.json\",'w') as f:\n",
    "    json.dump(all_genes,f)"
   ]
  },
  {
   "cell_type": "code",
   "execution_count": 1154,
   "id": "7b338afe",
   "metadata": {},
   "outputs": [],
   "source": [
    "#Just for CoRegs\n",
    "coRegs_uni=set(coRegs_heat)&set(mock_genes)"
   ]
  },
  {
   "cell_type": "code",
   "execution_count": 36,
   "id": "4cf023ec",
   "metadata": {},
   "outputs": [],
   "source": [
    "heat_genes=list(filter(lambda x: x in CDS,df[df[\"Log ratio heat\"]>1][\"geneID\"].to_list()))\n",
    "\n",
    "mock_genes=list(filter(lambda x: x in CDS,df[df[\"Log ratio mock\"]>1][\"geneID\"].to_list()))"
   ]
  },
  {
   "cell_type": "code",
   "execution_count": 26,
   "id": "dce6ba71",
   "metadata": {},
   "outputs": [],
   "source": [
    "LogFC=dict(filter(lambda x: x[0] in CDS.keys(), RMA_finals.items()))"
   ]
  },
  {
   "cell_type": "code",
   "execution_count": null,
   "id": "968c6068",
   "metadata": {},
   "outputs": [],
   "source": []
  },
  {
   "cell_type": "code",
   "execution_count": 28,
   "id": "bb581d7e",
   "metadata": {},
   "outputs": [],
   "source": [
    "ids=df[\"geneID\"].to_list()"
   ]
  },
  {
   "cell_type": "code",
   "execution_count": 30,
   "id": "3c774f60",
   "metadata": {},
   "outputs": [],
   "source": [
    "mock_LogFC=df[\"Log ratio heat\"].to_list()"
   ]
  },
  {
   "cell_type": "code",
   "execution_count": 47,
   "id": "bd97378e",
   "metadata": {},
   "outputs": [],
   "source": [
    "LogFC=dict(zip(ids,mock_LogFC))"
   ]
  },
  {
   "cell_type": "code",
   "execution_count": 37,
   "id": "1f74adc6",
   "metadata": {},
   "outputs": [],
   "source": [
    "CDS_enriched_m=dict(map(lambda x: (x, len(CDS[x])), filter(lambda x: x in CDS.keys(),mock_genes)))\n",
    "CDS_enriched_h=dict(map(lambda x: (x, len(CDS[x])), filter(lambda x: x in CDS.keys(),heat_genes)))\n",
    "\n",
    "#CoRegs=dict(map(lambda x: (x, len(CDS[x])), filter(lambda x: x in CDS.keys(),coRegs_uni)))\n",
    "\n",
    "\n",
    "all_genes=dict(map(lambda x: (x, len(CDS[x])), filter(lambda x: x in CDS.keys(),df[\"geneID\"].to_list())))\n"
   ]
  },
  {
   "cell_type": "code",
   "execution_count": 54,
   "id": "b805467f",
   "metadata": {},
   "outputs": [],
   "source": [
    "log_vals=[LogFC[k]for k in CDS_enriched_h.keys()]"
   ]
  },
  {
   "cell_type": "code",
   "execution_count": 32,
   "id": "e1534c1c",
   "metadata": {},
   "outputs": [],
   "source": [
    "from collections import defaultdict\n",
    "\n",
    "def binning(inputs,category=\"CDS\"):\n",
    "    bins=defaultdict(list)\n",
    "    \n",
    "    if category=='CDS':\n",
    "        \n",
    "        for i in range(40,48,2):\n",
    "            if i==40:\n",
    "                bins[\"<42\"]=list(map(lambda y:LogFC[y[0]],filter(lambda x: x[1]<42,inputs.items())))\n",
    "                continue\n",
    "            if i==46:\n",
    "                bins[\"46<\"]=list(map(lambda y:LogFC[y[0]],filter(lambda x: 46<=x[1],inputs.items())))\n",
    "                continue\n",
    "            bins[f\"{i}-{i+2}\"]=list(map(lambda y:LogFC[y[0]],filter(lambda x: i<=x[1]<i+2,inputs.items())))\n",
    "        return bins\n",
    "    \n",
    "    if category=='UTR_5':\n",
    "        \n",
    "        for i in range(30,50,5):\n",
    "            if i==30:\n",
    "                bins[\"<35\"]=list(map(lambda y:LogFC[y[0]],filter(lambda x: x[1]<35,inputs.items())))\n",
    "                continue\n",
    "            if i==45:\n",
    "                bins[\"45<\"]=list(map(lambda y:LogFC[y[0]],filter(lambda x: 45<=x[1],inputs.items())))\n",
    "                continue\n",
    "            bins[f\"{i}-{i+5}\"]=list(map(lambda y:LogFC[y[0]],filter(lambda x: i<=x[1]<i+5,inputs.items())))\n",
    "        return bins\n",
    "    \n",
    "    if category=='UTR_3':\n",
    "        \n",
    "        for i in range(25,45,5):\n",
    "            if i==25:\n",
    "                bins[\"<30\"]=list(map(lambda y:LogFC[y[0]],filter(lambda x: x[1]<30,inputs.items())))\n",
    "                continue\n",
    "            if i==40:\n",
    "                bins[\"40<\"]=list(map(lambda y:LogFC[y[0]],filter(lambda x: 40<=x[1],inputs.items())))\n",
    "                continue\n",
    "            bins[f\"{i}-{i+5}\"]=list(map(lambda y:LogFC[y[0]],filter(lambda x: i<=x[1]<i+5,inputs.items())))\n",
    "        return bins\n",
    "    \n",
    "    if category=='CDS_len':\n",
    "        \n",
    "        for i in range(0,3200,800):\n",
    "            if i==0:\n",
    "                bins[\"<800\"]=list(map(lambda y:LogFC[y[0]],filter(lambda x: x[1]<800,inputs.items())))\n",
    "                continue\n",
    "            if i==2400:\n",
    "                bins[\"2400<\"]=list(map(lambda y:LogFC[y[0]],filter(lambda x: 2400<=x[1],inputs.items())))\n",
    "                continue\n",
    "            bins[f\"{i}-{i+800}\"]=list(map(lambda y:LogFC[y[0]],filter(lambda x: i<=x[1]<i+800,inputs.items())))\n",
    "        return bins\n",
    "    \n",
    "    if category=='UTR_5_len':\n",
    "        \n",
    "        for i in range(0,400,100):\n",
    "            if i==0:\n",
    "                bins[\"<100\"]=list(map(lambda y:LogFC[y[0]],filter(lambda x: x[1]<100,inputs.items())))\n",
    "                continue\n",
    "            if i==300:\n",
    "                bins[\"300<\"]=list(map(lambda y:LogFC[y[0]],filter(lambda x: 300<=x[1],inputs.items())))\n",
    "                continue\n",
    "            bins[f\"{i}-{i+100}\"]=list(map(lambda y:LogFC[y[0]],filter(lambda x: i<=x[1]<i+100,inputs.items())))\n",
    "        return bins\n",
    "    \n",
    "    if category=='UTR_3_len':\n",
    "        \n",
    "        for i in range(0,600,150):\n",
    "            if i==0:\n",
    "                bins[\"<150\"]=list(map(lambda y:LogFC[y[0]],filter(lambda x: x[1]<150,inputs.items())))\n",
    "                continue\n",
    "            if i==450:\n",
    "                bins[\"450<\"]=list(map(lambda y:LogFC[y[0]],filter(lambda x: 450<=x[1],inputs.items())))\n",
    "                continue\n",
    "            bins[f\"{i}-{i+150}\"]=list(map(lambda y:LogFC[y[0]],filter(lambda x: i<=x[1]<i+150,inputs.items())))\n",
    "        return bins\n",
    "    \n",
    "    if category=='CDS_coRegs':\n",
    "        \n",
    "        for i in range(42,48,2):\n",
    "            if i==42:\n",
    "                bins[\"<44\"]=list(map(lambda y:LogFC[y[0]],filter(lambda x: x[1]<44,inputs.items())))\n",
    "                continue\n",
    "            if i==46:\n",
    "                bins[\"46<\"]=list(map(lambda y:LogFC[y[0]],filter(lambda x: 46<=x[1],inputs.items())))\n",
    "                continue\n",
    "            bins[f\"{i}-{i+2}\"]=list(map(lambda y:LogFC[y[0]],filter(lambda x: i<=x[1]<i+2,inputs.items())))\n",
    "        return bins\n",
    "    \n",
    "    if category=='UTR_5_coRegs':\n",
    "        \n",
    "        for i in range(30,45,5):\n",
    "            if i==30:\n",
    "                bins[\"<35\"]=list(map(lambda y:LogFC[y[0]],filter(lambda x: x[1]<35,inputs.items())))\n",
    "                continue\n",
    "            if i==40:\n",
    "                bins[\"40<\"]=list(map(lambda y:LogFC[y[0]],filter(lambda x: 40<=x[1],inputs.items())))\n",
    "                continue\n",
    "            bins[f\"{i}-{i+5}\"]=list(map(lambda y:LogFC[y[0]],filter(lambda x: i<=x[1]<i+5,inputs.items())))\n",
    "        return bins\n",
    "    \n",
    "    if category=='UTR_3_coRegs':\n",
    "        \n",
    "        for i in range(25,40,5):\n",
    "            if i==25:\n",
    "                bins[\"<30\"]=list(map(lambda y:LogFC[y[0]],filter(lambda x: x[1]<30,inputs.items())))\n",
    "                continue\n",
    "            if i==35:\n",
    "                bins[\"35<\"]=list(map(lambda y:LogFC[y[0]],filter(lambda x: 35<=x[1],inputs.items())))\n",
    "                continue\n",
    "            bins[f\"{i}-{i+5}\"]=list(map(lambda y:LogFC[y[0]],filter(lambda x: i<=x[1]<i+5,inputs.items())))\n",
    "        return bins"
   ]
  },
  {
   "cell_type": "code",
   "execution_count": 56,
   "id": "13d7ab05",
   "metadata": {},
   "outputs": [],
   "source": [
    "a=binning(CDS_enriched_h,\"CDS_len\")"
   ]
  },
  {
   "cell_type": "code",
   "execution_count": null,
   "id": "59fc7d07",
   "metadata": {},
   "outputs": [],
   "source": []
  },
  {
   "cell_type": "code",
   "execution_count": 412,
   "id": "9374e677",
   "metadata": {},
   "outputs": [],
   "source": [
    "a={k:np.abs(np.array(v)) for k,v in a.items()}"
   ]
  },
  {
   "cell_type": "code",
   "execution_count": 413,
   "id": "8b071a7c",
   "metadata": {},
   "outputs": [
    {
     "data": {
      "text/plain": [
       "{'<30': 55, '30-35': 61, '35-40': 24, '40<': 28}"
      ]
     },
     "execution_count": 413,
     "metadata": {},
     "output_type": "execute_result"
    }
   ],
   "source": [
    "{k:len(v) for k,v in a.items()}"
   ]
  },
  {
   "cell_type": "code",
   "execution_count": 414,
   "id": "2df8bd14",
   "metadata": {},
   "outputs": [],
   "source": [
    "points={k:list(filter(lambda x: 1<=x<=4,v))for k,v in a.items()}"
   ]
  },
  {
   "cell_type": "code",
   "execution_count": 415,
   "id": "05228e0b",
   "metadata": {},
   "outputs": [],
   "source": [
    "import scikit_posthocs as sp\n",
    "results=np.triu(sp.posthoc_dunn(list(a.values()), p_adjust = 'bonferroni'),1)\n",
    "indices=np.nonzero(results)\n",
    "p_vals=results[indices].tolist()"
   ]
  },
  {
   "cell_type": "code",
   "execution_count": 416,
   "id": "bbbd7d0b",
   "metadata": {},
   "outputs": [],
   "source": [
    "ps=list(map(lambda x: \"ns\"if x>=0.05 else \"$\"+f\"{x:.2e}\"f\"{x}\"[:f\"{x:.2e}\".index(\"-\")].replace(\"e\",\"\\cdot10^{%s}\"%f\"{x:.2e}\"[f\"{x:.2e}\".index(\"-\"):])+\"$\",p_vals))"
   ]
  },
  {
   "cell_type": "code",
   "execution_count": 417,
   "id": "8b0af1fe",
   "metadata": {},
   "outputs": [],
   "source": [
    "res=dict(zip(combinations(list(a.keys()),2),p_vals))"
   ]
  },
  {
   "cell_type": "code",
   "execution_count": 105,
   "id": "b6501cc9",
   "metadata": {},
   "outputs": [],
   "source": [
    "#comparison_vals=defaultdict(list)\n",
    "\n",
    "def add_p_table(measure,Type,category,results):\n",
    "    for k,v in results.items():\n",
    "        comparison_vals[\"Type\"]+=[Type]\n",
    "        comparison_vals[\"Measure\"]+=[measure]\n",
    "        comparison_vals[\"Category\"]+=[category]\n",
    "        comparison_vals[\"Comparison\"]+=[f\"{k[0]}/{k[1]}\"]\n",
    "        comparison_vals[\"p-value\"]+=[v]"
   ]
  },
  {
   "cell_type": "code",
   "execution_count": 422,
   "id": "8b1c1778",
   "metadata": {},
   "outputs": [],
   "source": [
    "add_p_table(\"GC\",\"3' UTR\",\"heat PB-out\",res)"
   ]
  },
  {
   "cell_type": "code",
   "execution_count": null,
   "id": "1d2c1a2a",
   "metadata": {},
   "outputs": [],
   "source": []
  },
  {
   "cell_type": "code",
   "execution_count": 20,
   "id": "a0c94488",
   "metadata": {},
   "outputs": [],
   "source": [
    "from matplotlib import gridspec"
   ]
  },
  {
   "cell_type": "code",
   "execution_count": 423,
   "id": "691e5aaa",
   "metadata": {},
   "outputs": [
    {
     "name": "stdout",
     "output_type": "stream",
     "text": [
      "<30 v.s. 30-35: Custom statistical test, P_val:1.000e+00\n",
      "30-35 v.s. 35-40: Custom statistical test, P_val:4.800e-01\n",
      "35-40 v.s. 40<: Custom statistical test, P_val:2.218e-01\n",
      "<30 v.s. 35-40: Custom statistical test, P_val:4.485e-02\n",
      "30-35 v.s. 40<: Custom statistical test, P_val:6.798e-05\n",
      "<30 v.s. 40<: Custom statistical test, P_val:6.284e-07\n"
     ]
    },
    {
     "name": "stderr",
     "output_type": "stream",
     "text": [
      "C:\\Users\\nwntas\\AppData\\Local\\Temp\\ipykernel_15368\\1562849085.py:30: UserWarning: FixedFormatter should only be used together with FixedLocator\n",
      "  ax0.set_yticklabels(list(map(lambda x: str(x),-np.arange(0.5,4.5,0.5))))\n"
     ]
    },
    {
     "data": {
      "image/png": "[encoded data removed]",
      "text/plain": [
       "<Figure size 640x480 with 2 Axes>"
      ]
     },
     "metadata": {},
     "output_type": "display_data"
    }
   ],
   "source": [
    "gs=gridspec.GridSpec(2,1,height_ratios=[4,1])\n",
    "\n",
    "ax0=plt.subplot(gs[0,0])\n",
    "sns.set_style(\"whitegrid\")\n",
    "\n",
    "PROPS = {\n",
    "    'boxprops':{'facecolor':'#d0d9dd', 'edgecolor':(0,0,0,0.7)},\n",
    "    'medianprops':{'color':'k'},\n",
    "    'whiskerprops':{'color':'k'},\n",
    "    'capprops':{'color':'k'}\n",
    "}\n",
    "\n",
    "sns.boxplot(data=list(a.values()),showfliers=False,**PROPS)\n",
    "sns.stripplot(data=list(points.values()),alpha=.8,color=\"#020202\",linewidth=0.1,dodge=True,jitter=True,size=2)\n",
    "\n",
    "test_results=add_stat_annotation(ax=ax0,x=list(a.keys()),\n",
    "                                           y=list(map(lambda x: np.median(x),a.values())),\n",
    "                                           box_pairs=list(combinations(list(a.keys()),2)),\n",
    "                                           pvalues=p_vals,\n",
    "                                           text_annot_custom=ps,\n",
    "                                           text_format=\"simple\",\n",
    "                                           loc=\"inside\",\n",
    "                                           verbose=1,\n",
    "                                           perform_stat_test=False,\n",
    "                                           line_offset_to_box=0.68,\n",
    "                                           line_height=0.01,\n",
    "                                           line_offset=0.045)\n",
    "ax0.set_xticklabels(list(a.keys()))\n",
    "ax0.set_ylim([0.6,4])\n",
    "ax0.set_yticklabels(list(map(lambda x: str(x),-np.arange(0.5,4.5,0.5))))\n",
    "ax0.set_title(\"UTR3 heat\")\n",
    "ax0.set_ylabel(\"LogFC\")\n",
    "            \n",
    "ax1=plt.subplot(gs[1,0])\n",
    "sns.scatterplot(x=log_vals,y=list(CDS_enriched_h.values()),color=\"k\")\n",
    "ax1.set_xlim([-0.6,-5.4])\n",
    "#ax1.set_yscale(\"log\")\n",
    "ax1.set_ylim([15,60])\n",
    "ax1.set_xlabel(\"LogFC\")\n",
    "ax1.set_ylabel(\"GC%\")\n",
    "\n",
    "sns.despine(left=True, bottom=False)\n",
    "plt.savefig(\"UTR3_heat_PBout_final.tiff\")"
   ]
  },
  {
   "cell_type": "code",
   "execution_count": 302,
   "id": "4f4a53e7",
   "metadata": {},
   "outputs": [],
   "source": [
    "#spearman_vals=defaultdict(list)\n",
    "\n",
    "def add_spearman_table(measure,Type,category,spearman):\n",
    "    spearman_vals[\"Type\"]+=[Type]\n",
    "    spearman_vals[\"Measure\"]+=[measure]\n",
    "    spearman_vals[\"Category\"]+=[category]\n",
    "    spearman_vals[\"Score\"]+=[spearman[0]]\n",
    "    spearman_vals[\"p-value\"]+=[spearman[1]]"
   ]
  },
  {
   "cell_type": "code",
   "execution_count": 424,
   "id": "1c744773",
   "metadata": {},
   "outputs": [],
   "source": [
    "from scipy.stats import spearmanr\n",
    "add_spearman_table(\"GC\",\"3' UTR\",\"heat PB-out\",spearmanr(log_vals,list(CDS_enriched_h.values())))"
   ]
  },
  {
   "cell_type": "code",
   "execution_count": 425,
   "id": "ccce7ab2",
   "metadata": {},
   "outputs": [
    {
     "data": {
      "text/plain": [
       "{'Type': ['CDS',\n",
       "  'CDS',\n",
       "  'CDS',\n",
       "  'CDS',\n",
       "  \"5' UTR\",\n",
       "  \"5' UTR\",\n",
       "  \"5' UTR\",\n",
       "  \"5' UTR\",\n",
       "  \"3' UTR\",\n",
       "  \"3' UTR\",\n",
       "  \"3' UTR\",\n",
       "  \"3' UTR\"],\n",
       " 'Measure': ['GC',\n",
       "  'GC',\n",
       "  'Length',\n",
       "  'Length',\n",
       "  'Length',\n",
       "  'Length',\n",
       "  'GC',\n",
       "  'GC',\n",
       "  'Length',\n",
       "  'Length',\n",
       "  'GC',\n",
       "  'GC'],\n",
       " 'Category': ['mock PB-out',\n",
       "  'heat PB-out',\n",
       "  'heat PB-out',\n",
       "  'mock PB-out',\n",
       "  'mock PB-out',\n",
       "  'heat PB-out',\n",
       "  'heat PB-out',\n",
       "  'mock PB-out',\n",
       "  'heat PB-out',\n",
       "  'mock PB-out',\n",
       "  'mock PB-out',\n",
       "  'heat PB-out'],\n",
       " 'Score': [-0.03996582878386013,\n",
       "  -0.045979091161368495,\n",
       "  0.10391612303208989,\n",
       "  0.1622532970165668,\n",
       "  0.04428530127095494,\n",
       "  -0.09111329342669952,\n",
       "  -0.23153554957682634,\n",
       "  0.05218016770654298,\n",
       "  -0.17729139003239666,\n",
       "  0.018720851633955943,\n",
       "  0.06819111681257503,\n",
       "  -0.36423503330177215],\n",
       " 'p-value': [0.4046149212430129,\n",
       "  0.5137415196872068,\n",
       "  0.1391119263998488,\n",
       "  0.0006623591923428705,\n",
       "  0.37643817360831544,\n",
       "  0.24015839254053373,\n",
       "  0.0025295703333679718,\n",
       "  0.29724693331755475,\n",
       "  0.021502330598753838,\n",
       "  0.7103432485817118,\n",
       "  0.1756492119470815,\n",
       "  1.2126893834965154e-06]}"
      ]
     },
     "execution_count": 425,
     "metadata": {},
     "output_type": "execute_result"
    }
   ],
   "source": [
    "spearman_vals"
   ]
  },
  {
   "cell_type": "code",
   "execution_count": 428,
   "id": "b124641e",
   "metadata": {},
   "outputs": [],
   "source": [
    "pd.DataFrame(spearman_vals).to_csv(\"Correlation_PB_out.csv\",index=False)"
   ]
  },
  {
   "cell_type": "code",
   "execution_count": 427,
   "id": "54336232",
   "metadata": {},
   "outputs": [],
   "source": [
    "#comparison_vals=dd[~(dd[\"Category\"].str.contains(\"CoRegs\"))&~(dd[\"Category\"].str.contains(\"coRegs\"))].to_dict(\"list\")"
   ]
  },
  {
   "cell_type": "code",
   "execution_count": 308,
   "id": "dedc88ae",
   "metadata": {
    "scrolled": true
   },
   "outputs": [
    {
     "ename": "KeyboardInterrupt",
     "evalue": "",
     "output_type": "error",
     "traceback": [
      "\u001b[1;31m---------------------------------------------------------------------------\u001b[0m",
      "\u001b[1;31mKeyboardInterrupt\u001b[0m                         Traceback (most recent call last)",
      "Cell \u001b[1;32mIn[308], line 5\u001b[0m\n\u001b[0;32m      2\u001b[0m \u001b[38;5;28;01mfrom\u001b[39;00m \u001b[38;5;21;01mitertools\u001b[39;00m \u001b[38;5;28;01mimport\u001b[39;00m combinations\n\u001b[0;32m      3\u001b[0m sns\u001b[38;5;241m.\u001b[39mset_style(\u001b[38;5;124m\"\u001b[39m\u001b[38;5;124mwhitegrid\u001b[39m\u001b[38;5;124m\"\u001b[39m)\n\u001b[1;32m----> 5\u001b[0m dunns_results\u001b[38;5;241m=\u001b[39m\u001b[43msp\u001b[49m\u001b[38;5;241;43m.\u001b[39;49m\u001b[43mposthoc_dunn\u001b[49m\u001b[43m(\u001b[49m\u001b[38;5;28;43mlist\u001b[39;49m\u001b[43m(\u001b[49m\u001b[43mdic\u001b[49m\u001b[38;5;241;43m.\u001b[39;49m\u001b[43mvalues\u001b[49m\u001b[43m(\u001b[49m\u001b[43m)\u001b[49m\u001b[43m)\u001b[49m\u001b[43m,\u001b[49m\u001b[43m \u001b[49m\u001b[43mp_adjust\u001b[49m\u001b[43m \u001b[49m\u001b[38;5;241;43m=\u001b[39;49m\u001b[43m \u001b[49m\u001b[38;5;124;43m'\u001b[39;49m\u001b[38;5;124;43mbonferroni\u001b[39;49m\u001b[38;5;124;43m'\u001b[39;49m\u001b[43m)\u001b[49m\n\u001b[0;32m      6\u001b[0m p_vals\u001b[38;5;241m=\u001b[39mdunns_results[\u001b[38;5;241m1\u001b[39m][\u001b[38;5;241m1\u001b[39m:]\u001b[38;5;241m.\u001b[39mto_list()\u001b[38;5;241m+\u001b[39mdunns_results[\u001b[38;5;241m2\u001b[39m][\u001b[38;5;241m2\u001b[39m:]\u001b[38;5;241m.\u001b[39mto_list()\u001b[38;5;241m+\u001b[39m[dunns_results[\u001b[38;5;241m3\u001b[39m][\u001b[38;5;241m4\u001b[39m]]\n\u001b[0;32m      8\u001b[0m flierprops \u001b[38;5;241m=\u001b[39m \u001b[38;5;28mdict\u001b[39m(marker\u001b[38;5;241m=\u001b[39m\u001b[38;5;124m'\u001b[39m\u001b[38;5;124mo\u001b[39m\u001b[38;5;124m'\u001b[39m, markersize\u001b[38;5;241m=\u001b[39m\u001b[38;5;241m2\u001b[39m, markerfacecolor\u001b[38;5;241m=\u001b[39m\u001b[38;5;124m'\u001b[39m\u001b[38;5;124mNone\u001b[39m\u001b[38;5;124m'\u001b[39m)\n",
      "File \u001b[1;32m~\\miniconda3\\lib\\site-packages\\scikit_posthocs\\_posthocs.py:369\u001b[0m, in \u001b[0;36mposthoc_dunn\u001b[1;34m(a, val_col, group_col, p_adjust, sort)\u001b[0m\n\u001b[0;32m    366\u001b[0m vs[:, :] \u001b[38;5;241m=\u001b[39m \u001b[38;5;241m0\u001b[39m\n\u001b[0;32m    368\u001b[0m \u001b[38;5;28;01mfor\u001b[39;00m i, j \u001b[38;5;129;01min\u001b[39;00m combs:\n\u001b[1;32m--> 369\u001b[0m     vs[i, j] \u001b[38;5;241m=\u001b[39m \u001b[43mcompare_dunn\u001b[49m\u001b[43m(\u001b[49m\u001b[43mx_groups_unique\u001b[49m\u001b[43m[\u001b[49m\u001b[43mi\u001b[49m\u001b[43m]\u001b[49m\u001b[43m,\u001b[49m\u001b[43m \u001b[49m\u001b[43mx_groups_unique\u001b[49m\u001b[43m[\u001b[49m\u001b[43mj\u001b[49m\u001b[43m]\u001b[49m\u001b[43m)\u001b[49m\n\u001b[0;32m    371\u001b[0m \u001b[38;5;28;01mif\u001b[39;00m p_adjust:\n\u001b[0;32m    372\u001b[0m     vs[tri_upper] \u001b[38;5;241m=\u001b[39m multipletests(vs[tri_upper], method\u001b[38;5;241m=\u001b[39mp_adjust)[\u001b[38;5;241m1\u001b[39m]\n",
      "File \u001b[1;32m~\\miniconda3\\lib\\site-packages\\scikit_posthocs\\_posthocs.py:341\u001b[0m, in \u001b[0;36mposthoc_dunn.<locals>.compare_dunn\u001b[1;34m(i, j)\u001b[0m\n\u001b[0;32m    339\u001b[0m B \u001b[38;5;241m=\u001b[39m (\u001b[38;5;241m1.\u001b[39m \u001b[38;5;241m/\u001b[39m x_lens\u001b[38;5;241m.\u001b[39mloc[i] \u001b[38;5;241m+\u001b[39m \u001b[38;5;241m1.\u001b[39m \u001b[38;5;241m/\u001b[39m x_lens\u001b[38;5;241m.\u001b[39mloc[j])\n\u001b[0;32m    340\u001b[0m z_value \u001b[38;5;241m=\u001b[39m diff \u001b[38;5;241m/\u001b[39m np\u001b[38;5;241m.\u001b[39msqrt((A \u001b[38;5;241m-\u001b[39m x_ties) \u001b[38;5;241m*\u001b[39m B)\n\u001b[1;32m--> 341\u001b[0m p_value \u001b[38;5;241m=\u001b[39m \u001b[38;5;241m2.\u001b[39m \u001b[38;5;241m*\u001b[39m \u001b[43mss\u001b[49m\u001b[38;5;241;43m.\u001b[39;49m\u001b[43mnorm\u001b[49m\u001b[38;5;241;43m.\u001b[39;49m\u001b[43msf\u001b[49m\u001b[43m(\u001b[49m\u001b[43mnp\u001b[49m\u001b[38;5;241;43m.\u001b[39;49m\u001b[43mabs\u001b[49m\u001b[43m(\u001b[49m\u001b[43mz_value\u001b[49m\u001b[43m)\u001b[49m\u001b[43m)\u001b[49m\n\u001b[0;32m    342\u001b[0m \u001b[38;5;28;01mreturn\u001b[39;00m p_value\n",
      "File \u001b[1;32m~\\miniconda3\\lib\\site-packages\\scipy\\stats\\_distn_infrastructure.py:2266\u001b[0m, in \u001b[0;36mrv_continuous.sf\u001b[1;34m(self, x, *args, **kwds)\u001b[0m\n\u001b[0;32m   2264\u001b[0m output \u001b[38;5;241m=\u001b[39m zeros(shape(cond), dtyp)\n\u001b[0;32m   2265\u001b[0m place(output, (\u001b[38;5;241m1\u001b[39m\u001b[38;5;241m-\u001b[39mcond0)\u001b[38;5;241m+\u001b[39mnp\u001b[38;5;241m.\u001b[39misnan(x), \u001b[38;5;28mself\u001b[39m\u001b[38;5;241m.\u001b[39mbadvalue)\n\u001b[1;32m-> 2266\u001b[0m \u001b[43mplace\u001b[49m\u001b[43m(\u001b[49m\u001b[43moutput\u001b[49m\u001b[43m,\u001b[49m\u001b[43m \u001b[49m\u001b[43mcond2\u001b[49m\u001b[43m,\u001b[49m\u001b[43m \u001b[49m\u001b[38;5;241;43m1.0\u001b[39;49m\u001b[43m)\u001b[49m\n\u001b[0;32m   2267\u001b[0m \u001b[38;5;28;01mif\u001b[39;00m np\u001b[38;5;241m.\u001b[39many(cond):\n\u001b[0;32m   2268\u001b[0m     goodargs \u001b[38;5;241m=\u001b[39m argsreduce(cond, \u001b[38;5;241m*\u001b[39m((x,)\u001b[38;5;241m+\u001b[39margs))\n",
      "File \u001b[1;32m<__array_function__ internals>:180\u001b[0m, in \u001b[0;36mplace\u001b[1;34m(*args, **kwargs)\u001b[0m\n",
      "File \u001b[1;32m~\\miniconda3\\lib\\site-packages\\numpy\\lib\\function_base.py:1953\u001b[0m, in \u001b[0;36mplace\u001b[1;34m(arr, mask, vals)\u001b[0m\n\u001b[0;32m   1949\u001b[0m \u001b[38;5;28;01mif\u001b[39;00m \u001b[38;5;129;01mnot\u001b[39;00m \u001b[38;5;28misinstance\u001b[39m(arr, np\u001b[38;5;241m.\u001b[39mndarray):\n\u001b[0;32m   1950\u001b[0m     \u001b[38;5;28;01mraise\u001b[39;00m \u001b[38;5;167;01mTypeError\u001b[39;00m(\u001b[38;5;124m\"\u001b[39m\u001b[38;5;124margument 1 must be numpy.ndarray, \u001b[39m\u001b[38;5;124m\"\u001b[39m\n\u001b[0;32m   1951\u001b[0m                     \u001b[38;5;124m\"\u001b[39m\u001b[38;5;124mnot \u001b[39m\u001b[38;5;132;01m{name}\u001b[39;00m\u001b[38;5;124m\"\u001b[39m\u001b[38;5;241m.\u001b[39mformat(name\u001b[38;5;241m=\u001b[39m\u001b[38;5;28mtype\u001b[39m(arr)\u001b[38;5;241m.\u001b[39m\u001b[38;5;18m__name__\u001b[39m))\n\u001b[1;32m-> 1953\u001b[0m \u001b[38;5;28;01mreturn\u001b[39;00m \u001b[43m_insert\u001b[49m\u001b[43m(\u001b[49m\u001b[43marr\u001b[49m\u001b[43m,\u001b[49m\u001b[43m \u001b[49m\u001b[43mmask\u001b[49m\u001b[43m,\u001b[49m\u001b[43m \u001b[49m\u001b[43mvals\u001b[49m\u001b[43m)\u001b[49m\n",
      "\u001b[1;31mKeyboardInterrupt\u001b[0m: "
     ]
    }
   ],
   "source": [
    "from statannot import add_stat_annotation\n",
    "from itertools import combinations\n",
    "sns.set_style(\"whitegrid\")\n",
    "\n",
    "dunns_results=sp.posthoc_dunn(list(dic.values()), p_adjust = 'bonferroni')\n",
    "p_vals=dunns_results[1][1:].to_list()+dunns_results[2][2:].to_list()+[dunns_results[3][4]]\n",
    "\n",
    "flierprops = dict(marker='o', markersize=2, markerfacecolor='None')\n",
    "pl=sns.boxplot(data=list(dic.values()),flierprops=flierprops, showfliers=False, color=\"#d24d2d\")\n",
    "#pl.set_xticklabels(sorted(list(dic.keys())))\n",
    "pl.set_xticklabels(list(dic.keys()))\n",
    "#pl.set_ylim([-1,2])\n",
    "pl.set_title(\"CDS heat samples\")\n",
    "pl.set_ylabel(\"Log2FC\")\n",
    "pl.set_xlabel(\"Length(nt)\")\n",
    "\n",
    "test_results=add_stat_annotation(ax=pl,x=list(dic.keys()),\n",
    "                                           y=list(map(lambda x: np.median(x),dic.values())),\n",
    "                                           box_pairs=list(combinations(list(dic.keys()),2)),\n",
    "                                           pvalues=p_vals,\n",
    "                                           text_format=\"star\",\n",
    "                                           loc=\"inside\",\n",
    "                                           verbose=1,\n",
    "                                           perform_stat_test=False,\n",
    "                                           line_offset_to_box=0.5)\n",
    "\n",
    "sns.despine(left=True, bottom=False)\n",
    "\n",
    "plt.savefig(\"CDS_heat_len_with_significance_all.tiff\")"
   ]
  },
  {
   "cell_type": "code",
   "execution_count": 14,
   "id": "137b15f5",
   "metadata": {},
   "outputs": [
    {
     "data": {
      "text/html": [
       "<div>\n",
       "<style scoped>\n",
       "    .dataframe tbody tr th:only-of-type {\n",
       "        vertical-align: middle;\n",
       "    }\n",
       "\n",
       "    .dataframe tbody tr th {\n",
       "        vertical-align: top;\n",
       "    }\n",
       "\n",
       "    .dataframe thead th {\n",
       "        text-align: right;\n",
       "    }\n",
       "</style>\n",
       "<table border=\"1\" class=\"dataframe\">\n",
       "  <thead>\n",
       "    <tr style=\"text-align: right;\">\n",
       "      <th></th>\n",
       "      <th>1</th>\n",
       "      <th>2</th>\n",
       "      <th>3</th>\n",
       "      <th>4</th>\n",
       "    </tr>\n",
       "  </thead>\n",
       "  <tbody>\n",
       "    <tr>\n",
       "      <th>1</th>\n",
       "      <td>1.000000</td>\n",
       "      <td>1.000000</td>\n",
       "      <td>1.0</td>\n",
       "      <td>0.311898</td>\n",
       "    </tr>\n",
       "    <tr>\n",
       "      <th>2</th>\n",
       "      <td>1.000000</td>\n",
       "      <td>1.000000</td>\n",
       "      <td>1.0</td>\n",
       "      <td>0.415538</td>\n",
       "    </tr>\n",
       "    <tr>\n",
       "      <th>3</th>\n",
       "      <td>1.000000</td>\n",
       "      <td>1.000000</td>\n",
       "      <td>1.0</td>\n",
       "      <td>1.000000</td>\n",
       "    </tr>\n",
       "    <tr>\n",
       "      <th>4</th>\n",
       "      <td>0.311898</td>\n",
       "      <td>0.415538</td>\n",
       "      <td>1.0</td>\n",
       "      <td>1.000000</td>\n",
       "    </tr>\n",
       "  </tbody>\n",
       "</table>\n",
       "</div>"
      ],
      "text/plain": [
       "          1         2    3         4\n",
       "1  1.000000  1.000000  1.0  0.311898\n",
       "2  1.000000  1.000000  1.0  0.415538\n",
       "3  1.000000  1.000000  1.0  1.000000\n",
       "4  0.311898  0.415538  1.0  1.000000"
      ]
     },
     "execution_count": 14,
     "metadata": {},
     "output_type": "execute_result"
    }
   ],
   "source": [
    "from scipy.stats import f_oneway\n",
    "from scipy import stats\n",
    "\n",
    "#Test for normality shows that samples are not normally distributed and thus i cannot do ANOVA. I choose\n",
    "#a non-parametric approach called the Kruskal-Wallis test which is a one-way ANOVA done on the ranks of the samples\n",
    "#H0: That the median of all samples is the same\n",
    "\n",
    "#stats.shapiro(dic[\"47-60\"]) #example\n",
    "\n",
    "#stats.kruskal(dic[\"18-168\"],dic[\"168-263\"],dic[\"263-355\"],dic[\"355-1385\"])\n",
    "\n",
    "#Dunn's Test is a post-hoc test for non-parametric data that has the null hypothesis that two samples have the same median\n",
    "import scikit_posthocs as sp\n",
    "sp.posthoc_dunn(list(dic.values()), p_adjust = 'bonferroni')"
   ]
  },
  {
   "cell_type": "code",
   "execution_count": 14,
   "id": "fd143604",
   "metadata": {},
   "outputs": [],
   "source": [
    "#For the CDS of PB enr mock samples we see that there is slightly higher enrichment with higher GC content levels\n",
    "#Kruskal ANOVA: Stat: 25.590013804593106, p-val: 1.162109464756434e-05\n",
    "#Dunn's post-hoc: 3-4 vs 1-2// p-val<0.05// Check table for more info"
   ]
  },
  {
   "cell_type": "code",
   "execution_count": 573,
   "id": "9f22d517",
   "metadata": {},
   "outputs": [
    {
     "data": {
      "text/plain": [
       "KruskalResult(statistic=3.2675767314357245, pvalue=0.3521809141453853)"
      ]
     },
     "execution_count": 573,
     "metadata": {},
     "output_type": "execute_result"
    }
   ],
   "source": [
    "stats.kruskal(dic[\"0-106\"],dic[\"106-225\"],dic[\"225-310\"],dic[\"310-3278\"])"
   ]
  },
  {
   "cell_type": "code",
   "execution_count": 15,
   "id": "021a4ad3",
   "metadata": {},
   "outputs": [],
   "source": [
    "from collections import Counter"
   ]
  },
  {
   "cell_type": "code",
   "execution_count": 513,
   "id": "dd5a547b",
   "metadata": {},
   "outputs": [],
   "source": [
    "CDS_enr_nums=dict(Counter(list(map(lambda x:round(x[1]),CDS_enriched.items()))))\n",
    "CDS_enr_nums=dict(sorted(CDS_enr_nums.items(),key=lambda x: x[0]))"
   ]
  },
  {
   "cell_type": "code",
   "execution_count": 514,
   "id": "7edd22d1",
   "metadata": {},
   "outputs": [],
   "source": [
    "CDS_depl_nums=Counter(list(map(lambda x:round(x[1]),CDS_depleted.items())))\n",
    "CDS_depl_nums=dict(sorted(CDS_depl_nums.items(),key=lambda x: x[0]))\n",
    "\n",
    "\n",
    "CDS_all_nums=Counter(list(map(lambda x:round(x[1]),all_genes.items())))\n",
    "CDS_all_nums=dict(map(lambda x: (str(x[0]),x[1]),dict(CDS_all_nums).items()))\n",
    "CDS_all_nums=dict(sorted(CDS_all_nums.items(),key=lambda x: x[0]))"
   ]
  },
  {
   "cell_type": "code",
   "execution_count": 85,
   "id": "fecf622e",
   "metadata": {},
   "outputs": [
    {
     "data": {
      "text/plain": [
       "{'<800': 19935, '800-1600': 0, '1600-2400': 0, '2400<': 0}"
      ]
     },
     "execution_count": 85,
     "metadata": {},
     "output_type": "execute_result"
    }
   ],
   "source": [
    "{k:len(v)for k,v in al.items()}"
   ]
  },
  {
   "cell_type": "code",
   "execution_count": 33,
   "id": "76bd79d9",
   "metadata": {},
   "outputs": [],
   "source": [
    "import scipy"
   ]
  },
  {
   "cell_type": "code",
   "execution_count": 38,
   "id": "463053b3",
   "metadata": {},
   "outputs": [],
   "source": [
    "m=binning(CDS_enriched_m,\"CDS_len\")"
   ]
  },
  {
   "cell_type": "code",
   "execution_count": 39,
   "id": "1278fe1d",
   "metadata": {},
   "outputs": [],
   "source": [
    "h=binning(CDS_enriched_h,\"CDS_len\")"
   ]
  },
  {
   "cell_type": "code",
   "execution_count": 40,
   "id": "d89775e3",
   "metadata": {},
   "outputs": [],
   "source": [
    "al=binning(all_genes,\"CDS_len\")"
   ]
  },
  {
   "cell_type": "code",
   "execution_count": 44,
   "id": "1603f445",
   "metadata": {},
   "outputs": [],
   "source": [
    "\n",
    "DataFrame ={\n",
    "    \"Metric\":[],\n",
    "    \"Bin\":[],\n",
    "    \"Group\":[]\n",
    "}"
   ]
  },
  {
   "cell_type": "code",
   "execution_count": 47,
   "id": "7d277c15",
   "metadata": {},
   "outputs": [],
   "source": [
    "for k in al.keys():\n",
    "    for i in al[k]:\n",
    "        DataFrame[\"Bin\"]+=[k]\n",
    "        DataFrame[\"Metric\"]+=[i]\n",
    "        DataFrame[\"Group\"]+=[\"All\"]"
   ]
  },
  {
   "cell_type": "code",
   "execution_count": 48,
   "id": "0f38702c",
   "metadata": {},
   "outputs": [],
   "source": [
    "dd=pd.DataFrame(DataFrame)"
   ]
  },
  {
   "cell_type": "code",
   "execution_count": 49,
   "id": "0d8f6a52",
   "metadata": {},
   "outputs": [],
   "source": [
    "dd.replace([np.inf, -np.inf], np.nan, inplace=True)\n",
    "dd.dropna(inplace=True)\n",
    "#dd=dd[dd[\"Metric\"]<=500]"
   ]
  },
  {
   "cell_type": "code",
   "execution_count": 50,
   "id": "14ec6fd8",
   "metadata": {},
   "outputs": [],
   "source": [
    "pairs=[((k,j),(k,q)) for k in al.keys() for j,q in combinations([\"All\",\"Heat\",\"Mock\"],r=2)]"
   ]
  },
  {
   "cell_type": "code",
   "execution_count": 51,
   "id": "6c8b6505",
   "metadata": {},
   "outputs": [],
   "source": [
    "p_vals=[scipy.stats.mannwhitneyu(al[k],h[k]) for k in al.keys()]+[scipy.stats.mannwhitneyu(al[k],m[k]) for k in al.keys()]+[scipy.stats.mannwhitneyu(m[k],h[k]) for k in al.keys()]\n",
    "p_vals=[p_vals[i][1]*12 for j in range(4) for i in range(j,12,4)]"
   ]
  },
  {
   "cell_type": "code",
   "execution_count": 52,
   "id": "3f126e0a",
   "metadata": {},
   "outputs": [],
   "source": [
    "ps=list(map(lambda x: \"ns\"if x>=0.05 else \"$\"+f\"{x:.2e}\"f\"{x}\"[:f\"{x:.2e}\".index(\"-\")].replace(\"e\",\"\\cdot10^{%s}\"%f\"{x:.2e}\"[f\"{x:.2e}\".index(\"-\"):])+\"$\",p_vals))"
   ]
  },
  {
   "cell_type": "code",
   "execution_count": 54,
   "id": "a1d286cf",
   "metadata": {},
   "outputs": [
    {
     "name": "stdout",
     "output_type": "stream",
     "text": [
      "800-1600_Heat v.s. 800-1600_All: Custom statistical test, P_val:5.916e+00\n",
      "1600-2400_Heat v.s. 1600-2400_All: Custom statistical test, P_val:9.114e-01\n",
      "1600-2400_Mock v.s. 1600-2400_Heat: Custom statistical test, P_val:1.051e+01\n",
      "2400<_Heat v.s. 2400<_All: Custom statistical test, P_val:9.664e+00\n",
      "2400<_Mock v.s. 2400<_Heat: Custom statistical test, P_val:3.947e+00\n",
      "<800_Heat v.s. <800_All: Custom statistical test, P_val:1.164e+01\n",
      "<800_Mock v.s. <800_Heat: Custom statistical test, P_val:3.934e-01\n",
      "800-1600_Mock v.s. 800-1600_Heat: Custom statistical test, P_val:3.066e+00\n",
      "1600-2400_Mock v.s. 1600-2400_All: Custom statistical test, P_val:3.844e+00\n",
      "2400<_Mock v.s. 2400<_All: Custom statistical test, P_val:2.667e+00\n",
      "800-1600_Mock v.s. 800-1600_All: Custom statistical test, P_val:4.974e+00\n",
      "<800_Mock v.s. <800_All: Custom statistical test, P_val:1.416e-01\n"
     ]
    },
    {
     "data": {
      "image/png": "[encoded data removed]",
      "text/plain": [
       "<Figure size 1000x500 with 1 Axes>"
      ]
     },
     "metadata": {},
     "output_type": "display_data"
    }
   ],
   "source": [
    "fig, ax=plt.subplots(figsize=(10,5))\n",
    "aa=sns.boxplot(data=dd, x=\"Bin\",y=\"Metric\",hue=\"Group\", showfliers=False)\n",
    "\n",
    "nobs = dd.groupby([\"Bin\",\"Group\"])[\"Metric\"].aggregate(\"count\").values\n",
    "nobs = [str(x) for x in nobs.tolist()]\n",
    "nobs = [\"n: \" + i for i in nobs]\n",
    "\n",
    "ax.set_ylabel(\"RMA\")\n",
    "#ax.set_xlabel(\"GC%\")\n",
    "ax.set_xlabel(\"Length (nt)\")\n",
    "#ax.set_yscale(\"log\")\n",
    "#ax.set_ylim([-15,35])\n",
    "test_results=add_stat_annotation(ax=ax,data=dd, x=\"Bin\",\n",
    "                                           y=\"Metric\",\n",
    "                                           hue=\"Group\",\n",
    "                                           box_pairs=pairs,\n",
    "                                           pvalues=p_vals,\n",
    "                                           text_annot_custom=ps,\n",
    "                                           text_format=\"simple\",\n",
    "                                           loc=\"outside\",\n",
    "                                           verbose=1,\n",
    "                                           perform_stat_test=False,\n",
    "                                           line_offset_to_box=0.1,\n",
    "                                           line_height=0.005,\n",
    "                                           line_offset=0.05)\n",
    "aa.legend(bbox_to_anchor=(1,1))\n",
    "plt.tight_layout()\n",
    "plt.savefig(\"RMA_CDS_intra_Length.tiff\")"
   ]
  },
  {
   "cell_type": "code",
   "execution_count": 49,
   "id": "3f53bddd",
   "metadata": {},
   "outputs": [],
   "source": [
    "import scipy"
   ]
  },
  {
   "cell_type": "code",
   "execution_count": 55,
   "id": "a707ed8d",
   "metadata": {},
   "outputs": [],
   "source": [
    "res=dict(zip(pairs,p_vals))"
   ]
  },
  {
   "cell_type": "code",
   "execution_count": 58,
   "id": "5ebe2053",
   "metadata": {},
   "outputs": [],
   "source": [
    "comparison_vals=defaultdict(list)\n",
    "\n",
    "def add_p_table(measure,Type,statistic,results):\n",
    "    for k,v in results.items():\n",
    "        comparison_vals[\"Type\"]+=[Type]\n",
    "        comparison_vals[\"Measure\"]+=[measure]\n",
    "        comparison_vals[\"Bin\"]+=[k[0][0]]\n",
    "        comparison_vals[\"Comparison\"]+=[f\"{k[0][1]}/{k[1][1]}\"]\n",
    "        comparison_vals[\"Statistic\"]+=[statistic]\n",
    "        comparison_vals[\"p-value\"]+=[v]"
   ]
  },
  {
   "cell_type": "code",
   "execution_count": 59,
   "id": "d7562309",
   "metadata": {},
   "outputs": [],
   "source": [
    "res=dict(zip(pairs,p_vals))\n",
    "add_p_table(\"Length\",\"CDS\",\"RMA\",res)"
   ]
  },
  {
   "cell_type": "code",
   "execution_count": null,
   "id": "3b6e4e1b",
   "metadata": {},
   "outputs": [],
   "source": []
  },
  {
   "cell_type": "code",
   "execution_count": 179,
   "id": "5db298e9",
   "metadata": {},
   "outputs": [],
   "source": [
    "da=pd.DataFrame(comparison_vals)"
   ]
  },
  {
   "cell_type": "code",
   "execution_count": 285,
   "id": "f9884c72",
   "metadata": {},
   "outputs": [],
   "source": [
    "da=da[~(da[\"Measure\"]==\"Half Life\")]"
   ]
  },
  {
   "cell_type": "code",
   "execution_count": 289,
   "id": "c0ab6485",
   "metadata": {},
   "outputs": [],
   "source": [
    "comparison_vals=da.to_dict(\"list\")"
   ]
  },
  {
   "cell_type": "code",
   "execution_count": 280,
   "id": "3f983c5c",
   "metadata": {},
   "outputs": [
    {
     "data": {
      "text/plain": [
       "dict_keys(['Type', 'Measure', 'Bin', 'Comparison', 'p-value', 'Statistic'])"
      ]
     },
     "execution_count": 280,
     "metadata": {},
     "output_type": "execute_result"
    }
   ],
   "source": [
    "comparison_vals.keys()"
   ]
  },
  {
   "cell_type": "code",
   "execution_count": null,
   "id": "62ca6a39",
   "metadata": {},
   "outputs": [],
   "source": []
  },
  {
   "cell_type": "code",
   "execution_count": 465,
   "id": "10fd3c66",
   "metadata": {
    "scrolled": false
   },
   "outputs": [
    {
     "data": {
      "text/html": [
       "<div>\n",
       "<style scoped>\n",
       "    .dataframe tbody tr th:only-of-type {\n",
       "        vertical-align: middle;\n",
       "    }\n",
       "\n",
       "    .dataframe tbody tr th {\n",
       "        vertical-align: top;\n",
       "    }\n",
       "\n",
       "    .dataframe thead th {\n",
       "        text-align: right;\n",
       "    }\n",
       "</style>\n",
       "<table border=\"1\" class=\"dataframe\">\n",
       "  <thead>\n",
       "    <tr style=\"text-align: right;\">\n",
       "      <th></th>\n",
       "      <th>Type</th>\n",
       "      <th>Measure</th>\n",
       "      <th>Bin</th>\n",
       "      <th>Comparison</th>\n",
       "      <th>p-value</th>\n",
       "      <th>Statistic</th>\n",
       "    </tr>\n",
       "  </thead>\n",
       "  <tbody>\n",
       "    <tr>\n",
       "      <th>0</th>\n",
       "      <td>5' UTR</td>\n",
       "      <td>GC</td>\n",
       "      <td>&lt;35</td>\n",
       "      <td>All/Heat</td>\n",
       "      <td>2.522806e+00</td>\n",
       "      <td>MFEde</td>\n",
       "    </tr>\n",
       "    <tr>\n",
       "      <th>1</th>\n",
       "      <td>5' UTR</td>\n",
       "      <td>GC</td>\n",
       "      <td>&lt;35</td>\n",
       "      <td>All/Mock</td>\n",
       "      <td>8.257592e-05</td>\n",
       "      <td>MFEde</td>\n",
       "    </tr>\n",
       "    <tr>\n",
       "      <th>2</th>\n",
       "      <td>5' UTR</td>\n",
       "      <td>GC</td>\n",
       "      <td>&lt;35</td>\n",
       "      <td>Heat/Mock</td>\n",
       "      <td>4.568447e-02</td>\n",
       "      <td>MFEde</td>\n",
       "    </tr>\n",
       "    <tr>\n",
       "      <th>3</th>\n",
       "      <td>5' UTR</td>\n",
       "      <td>GC</td>\n",
       "      <td>35-40</td>\n",
       "      <td>All/Heat</td>\n",
       "      <td>6.451832e+00</td>\n",
       "      <td>MFEde</td>\n",
       "    </tr>\n",
       "    <tr>\n",
       "      <th>4</th>\n",
       "      <td>5' UTR</td>\n",
       "      <td>GC</td>\n",
       "      <td>35-40</td>\n",
       "      <td>All/Mock</td>\n",
       "      <td>1.899281e-01</td>\n",
       "      <td>MFEde</td>\n",
       "    </tr>\n",
       "    <tr>\n",
       "      <th>...</th>\n",
       "      <td>...</td>\n",
       "      <td>...</td>\n",
       "      <td>...</td>\n",
       "      <td>...</td>\n",
       "      <td>...</td>\n",
       "      <td>...</td>\n",
       "    </tr>\n",
       "    <tr>\n",
       "      <th>139</th>\n",
       "      <td>CDS</td>\n",
       "      <td>GC</td>\n",
       "      <td>44-46</td>\n",
       "      <td>All/Mock</td>\n",
       "      <td>2.588011e-07</td>\n",
       "      <td>RCBS</td>\n",
       "    </tr>\n",
       "    <tr>\n",
       "      <th>140</th>\n",
       "      <td>CDS</td>\n",
       "      <td>GC</td>\n",
       "      <td>44-46</td>\n",
       "      <td>Heat/Mock</td>\n",
       "      <td>1.131291e+00</td>\n",
       "      <td>RCBS</td>\n",
       "    </tr>\n",
       "    <tr>\n",
       "      <th>141</th>\n",
       "      <td>CDS</td>\n",
       "      <td>GC</td>\n",
       "      <td>46&lt;</td>\n",
       "      <td>All/Heat</td>\n",
       "      <td>9.161758e-06</td>\n",
       "      <td>RCBS</td>\n",
       "    </tr>\n",
       "    <tr>\n",
       "      <th>142</th>\n",
       "      <td>CDS</td>\n",
       "      <td>GC</td>\n",
       "      <td>46&lt;</td>\n",
       "      <td>All/Mock</td>\n",
       "      <td>1.767540e-01</td>\n",
       "      <td>RCBS</td>\n",
       "    </tr>\n",
       "    <tr>\n",
       "      <th>143</th>\n",
       "      <td>CDS</td>\n",
       "      <td>GC</td>\n",
       "      <td>46&lt;</td>\n",
       "      <td>Heat/Mock</td>\n",
       "      <td>2.462277e+00</td>\n",
       "      <td>RCBS</td>\n",
       "    </tr>\n",
       "  </tbody>\n",
       "</table>\n",
       "<p>144 rows × 6 columns</p>\n",
       "</div>"
      ],
      "text/plain": [
       "       Type Measure    Bin Comparison       p-value Statistic\n",
       "0    5' UTR      GC    <35   All/Heat  2.522806e+00     MFEde\n",
       "1    5' UTR      GC    <35   All/Mock  8.257592e-05     MFEde\n",
       "2    5' UTR      GC    <35  Heat/Mock  4.568447e-02     MFEde\n",
       "3    5' UTR      GC  35-40   All/Heat  6.451832e+00     MFEde\n",
       "4    5' UTR      GC  35-40   All/Mock  1.899281e-01     MFEde\n",
       "..      ...     ...    ...        ...           ...       ...\n",
       "139     CDS      GC  44-46   All/Mock  2.588011e-07      RCBS\n",
       "140     CDS      GC  44-46  Heat/Mock  1.131291e+00      RCBS\n",
       "141     CDS      GC    46<   All/Heat  9.161758e-06      RCBS\n",
       "142     CDS      GC    46<   All/Mock  1.767540e-01      RCBS\n",
       "143     CDS      GC    46<  Heat/Mock  2.462277e+00      RCBS\n",
       "\n",
       "[144 rows x 6 columns]"
      ]
     },
     "execution_count": 465,
     "metadata": {},
     "output_type": "execute_result"
    }
   ],
   "source": [
    "da"
   ]
  },
  {
   "cell_type": "code",
   "execution_count": 4,
   "id": "c70d8509",
   "metadata": {},
   "outputs": [],
   "source": [
    "import numpy as np"
   ]
  },
  {
   "cell_type": "code",
   "execution_count": 181,
   "id": "86bc0156",
   "metadata": {},
   "outputs": [],
   "source": [
    "da.to_excel(\"p_values_RMA.xlsx\",index=False)"
   ]
  },
  {
   "cell_type": "code",
   "execution_count": 8,
   "id": "f0f47078",
   "metadata": {},
   "outputs": [],
   "source": [
    "import pandas as pd"
   ]
  },
  {
   "cell_type": "code",
   "execution_count": 125,
   "id": "2df07592",
   "metadata": {},
   "outputs": [],
   "source": [
    "AGI_tags=pd.read_csv(r\"C:\\Users\\nwntas\\tags.csv\")"
   ]
  },
  {
   "cell_type": "code",
   "execution_count": 126,
   "id": "dd8d54cd",
   "metadata": {},
   "outputs": [],
   "source": [
    "AGI=dict(zip(AGI_tags['Unnamed: 0'].to_list(),AGI_tags[\"x\"].to_list()))"
   ]
  },
  {
   "cell_type": "code",
   "execution_count": 127,
   "id": "691abd92",
   "metadata": {},
   "outputs": [],
   "source": [
    "RMA_vals=pd.read_csv(r\"C:\\Users\\nwntas\\intensity.csv\")"
   ]
  },
  {
   "cell_type": "code",
   "execution_count": 128,
   "id": "be949b9b",
   "metadata": {},
   "outputs": [],
   "source": [
    "RMA_vals[\"ID\"]=RMA_vals[\"ID\"].map(lambda x: AGI[x] if x in AGI.keys() else None)"
   ]
  },
  {
   "cell_type": "code",
   "execution_count": 129,
   "id": "71200d9c",
   "metadata": {},
   "outputs": [],
   "source": [
    "RMA_vals=RMA_vals.dropna()"
   ]
  },
  {
   "cell_type": "code",
   "execution_count": 143,
   "id": "b50bbc86",
   "metadata": {},
   "outputs": [],
   "source": [
    "def get_fraction(row):\n",
    "    return  np.mean([row['GSM1077277_POLY-22-1.CEL'],row['GSM1077278_POLY-22-2.CEL']])/np.mean([row['GSM1077273_TOT-22-1.CEL'],row['GSM1077274_TOT-22-2.CEL']])"
   ]
  },
  {
   "cell_type": "code",
   "execution_count": 178,
   "id": "3cc6054d",
   "metadata": {},
   "outputs": [
    {
     "ename": "KeyError",
     "evalue": "'GSM1077277_POLY-38-1.CEL'",
     "output_type": "error",
     "traceback": [
      "\u001b[1;31m---------------------------------------------------------------------------\u001b[0m",
      "\u001b[1;31mKeyError\u001b[0m                                  Traceback (most recent call last)",
      "File \u001b[1;32m~\\miniconda3\\lib\\site-packages\\pandas\\core\\indexes\\base.py:3802\u001b[0m, in \u001b[0;36mIndex.get_loc\u001b[1;34m(self, key, method, tolerance)\u001b[0m\n\u001b[0;32m   3801\u001b[0m \u001b[38;5;28;01mtry\u001b[39;00m:\n\u001b[1;32m-> 3802\u001b[0m     \u001b[38;5;28;01mreturn\u001b[39;00m \u001b[38;5;28;43mself\u001b[39;49m\u001b[38;5;241;43m.\u001b[39;49m\u001b[43m_engine\u001b[49m\u001b[38;5;241;43m.\u001b[39;49m\u001b[43mget_loc\u001b[49m\u001b[43m(\u001b[49m\u001b[43mcasted_key\u001b[49m\u001b[43m)\u001b[49m\n\u001b[0;32m   3803\u001b[0m \u001b[38;5;28;01mexcept\u001b[39;00m \u001b[38;5;167;01mKeyError\u001b[39;00m \u001b[38;5;28;01mas\u001b[39;00m err:\n",
      "File \u001b[1;32m~\\miniconda3\\lib\\site-packages\\pandas\\_libs\\index.pyx:138\u001b[0m, in \u001b[0;36mpandas._libs.index.IndexEngine.get_loc\u001b[1;34m()\u001b[0m\n",
      "File \u001b[1;32m~\\miniconda3\\lib\\site-packages\\pandas\\_libs\\index.pyx:165\u001b[0m, in \u001b[0;36mpandas._libs.index.IndexEngine.get_loc\u001b[1;34m()\u001b[0m\n",
      "File \u001b[1;32mpandas\\_libs\\hashtable_class_helper.pxi:5745\u001b[0m, in \u001b[0;36mpandas._libs.hashtable.PyObjectHashTable.get_item\u001b[1;34m()\u001b[0m\n",
      "File \u001b[1;32mpandas\\_libs\\hashtable_class_helper.pxi:5753\u001b[0m, in \u001b[0;36mpandas._libs.hashtable.PyObjectHashTable.get_item\u001b[1;34m()\u001b[0m\n",
      "\u001b[1;31mKeyError\u001b[0m: 'GSM1077277_POLY-38-1.CEL'",
      "\nThe above exception was the direct cause of the following exception:\n",
      "\u001b[1;31mKeyError\u001b[0m                                  Traceback (most recent call last)",
      "Cell \u001b[1;32mIn[178], line 1\u001b[0m\n\u001b[1;32m----> 1\u001b[0m RMA_vals[\u001b[38;5;124m\"\u001b[39m\u001b[38;5;124mAverage_mock\u001b[39m\u001b[38;5;124m\"\u001b[39m]\u001b[38;5;241m=\u001b[39m\u001b[43mRMA_vals\u001b[49m\u001b[38;5;241;43m.\u001b[39;49m\u001b[43mapply\u001b[49m\u001b[43m(\u001b[49m\u001b[38;5;28;43;01mlambda\u001b[39;49;00m\u001b[43m \u001b[49m\u001b[43mx\u001b[49m\u001b[43m:\u001b[49m\u001b[43mget_fraction\u001b[49m\u001b[43m(\u001b[49m\u001b[43mx\u001b[49m\u001b[43m)\u001b[49m\u001b[43m,\u001b[49m\u001b[43maxis\u001b[49m\u001b[38;5;241;43m=\u001b[39;49m\u001b[38;5;241;43m1\u001b[39;49m\u001b[43m)\u001b[49m\n",
      "File \u001b[1;32m~\\miniconda3\\lib\\site-packages\\pandas\\core\\frame.py:9568\u001b[0m, in \u001b[0;36mDataFrame.apply\u001b[1;34m(self, func, axis, raw, result_type, args, **kwargs)\u001b[0m\n\u001b[0;32m   9557\u001b[0m \u001b[38;5;28;01mfrom\u001b[39;00m \u001b[38;5;21;01mpandas\u001b[39;00m\u001b[38;5;21;01m.\u001b[39;00m\u001b[38;5;21;01mcore\u001b[39;00m\u001b[38;5;21;01m.\u001b[39;00m\u001b[38;5;21;01mapply\u001b[39;00m \u001b[38;5;28;01mimport\u001b[39;00m frame_apply\n\u001b[0;32m   9559\u001b[0m op \u001b[38;5;241m=\u001b[39m frame_apply(\n\u001b[0;32m   9560\u001b[0m     \u001b[38;5;28mself\u001b[39m,\n\u001b[0;32m   9561\u001b[0m     func\u001b[38;5;241m=\u001b[39mfunc,\n\u001b[1;32m   (...)\u001b[0m\n\u001b[0;32m   9566\u001b[0m     kwargs\u001b[38;5;241m=\u001b[39mkwargs,\n\u001b[0;32m   9567\u001b[0m )\n\u001b[1;32m-> 9568\u001b[0m \u001b[38;5;28;01mreturn\u001b[39;00m \u001b[43mop\u001b[49m\u001b[38;5;241;43m.\u001b[39;49m\u001b[43mapply\u001b[49m\u001b[43m(\u001b[49m\u001b[43m)\u001b[49m\u001b[38;5;241m.\u001b[39m__finalize__(\u001b[38;5;28mself\u001b[39m, method\u001b[38;5;241m=\u001b[39m\u001b[38;5;124m\"\u001b[39m\u001b[38;5;124mapply\u001b[39m\u001b[38;5;124m\"\u001b[39m)\n",
      "File \u001b[1;32m~\\miniconda3\\lib\\site-packages\\pandas\\core\\apply.py:764\u001b[0m, in \u001b[0;36mFrameApply.apply\u001b[1;34m(self)\u001b[0m\n\u001b[0;32m    761\u001b[0m \u001b[38;5;28;01melif\u001b[39;00m \u001b[38;5;28mself\u001b[39m\u001b[38;5;241m.\u001b[39mraw:\n\u001b[0;32m    762\u001b[0m     \u001b[38;5;28;01mreturn\u001b[39;00m \u001b[38;5;28mself\u001b[39m\u001b[38;5;241m.\u001b[39mapply_raw()\n\u001b[1;32m--> 764\u001b[0m \u001b[38;5;28;01mreturn\u001b[39;00m \u001b[38;5;28;43mself\u001b[39;49m\u001b[38;5;241;43m.\u001b[39;49m\u001b[43mapply_standard\u001b[49m\u001b[43m(\u001b[49m\u001b[43m)\u001b[49m\n",
      "File \u001b[1;32m~\\miniconda3\\lib\\site-packages\\pandas\\core\\apply.py:891\u001b[0m, in \u001b[0;36mFrameApply.apply_standard\u001b[1;34m(self)\u001b[0m\n\u001b[0;32m    890\u001b[0m \u001b[38;5;28;01mdef\u001b[39;00m \u001b[38;5;21mapply_standard\u001b[39m(\u001b[38;5;28mself\u001b[39m):\n\u001b[1;32m--> 891\u001b[0m     results, res_index \u001b[38;5;241m=\u001b[39m \u001b[38;5;28;43mself\u001b[39;49m\u001b[38;5;241;43m.\u001b[39;49m\u001b[43mapply_series_generator\u001b[49m\u001b[43m(\u001b[49m\u001b[43m)\u001b[49m\n\u001b[0;32m    893\u001b[0m     \u001b[38;5;66;03m# wrap results\u001b[39;00m\n\u001b[0;32m    894\u001b[0m     \u001b[38;5;28;01mreturn\u001b[39;00m \u001b[38;5;28mself\u001b[39m\u001b[38;5;241m.\u001b[39mwrap_results(results, res_index)\n",
      "File \u001b[1;32m~\\miniconda3\\lib\\site-packages\\pandas\\core\\apply.py:907\u001b[0m, in \u001b[0;36mFrameApply.apply_series_generator\u001b[1;34m(self)\u001b[0m\n\u001b[0;32m    904\u001b[0m \u001b[38;5;28;01mwith\u001b[39;00m option_context(\u001b[38;5;124m\"\u001b[39m\u001b[38;5;124mmode.chained_assignment\u001b[39m\u001b[38;5;124m\"\u001b[39m, \u001b[38;5;28;01mNone\u001b[39;00m):\n\u001b[0;32m    905\u001b[0m     \u001b[38;5;28;01mfor\u001b[39;00m i, v \u001b[38;5;129;01min\u001b[39;00m \u001b[38;5;28menumerate\u001b[39m(series_gen):\n\u001b[0;32m    906\u001b[0m         \u001b[38;5;66;03m# ignore SettingWithCopy here in case the user mutates\u001b[39;00m\n\u001b[1;32m--> 907\u001b[0m         results[i] \u001b[38;5;241m=\u001b[39m \u001b[38;5;28;43mself\u001b[39;49m\u001b[38;5;241;43m.\u001b[39;49m\u001b[43mf\u001b[49m\u001b[43m(\u001b[49m\u001b[43mv\u001b[49m\u001b[43m)\u001b[49m\n\u001b[0;32m    908\u001b[0m         \u001b[38;5;28;01mif\u001b[39;00m \u001b[38;5;28misinstance\u001b[39m(results[i], ABCSeries):\n\u001b[0;32m    909\u001b[0m             \u001b[38;5;66;03m# If we have a view on v, we need to make a copy because\u001b[39;00m\n\u001b[0;32m    910\u001b[0m             \u001b[38;5;66;03m#  series_generator will swap out the underlying data\u001b[39;00m\n\u001b[0;32m    911\u001b[0m             results[i] \u001b[38;5;241m=\u001b[39m results[i]\u001b[38;5;241m.\u001b[39mcopy(deep\u001b[38;5;241m=\u001b[39m\u001b[38;5;28;01mFalse\u001b[39;00m)\n",
      "Cell \u001b[1;32mIn[178], line 1\u001b[0m, in \u001b[0;36m<lambda>\u001b[1;34m(x)\u001b[0m\n\u001b[1;32m----> 1\u001b[0m RMA_vals[\u001b[38;5;124m\"\u001b[39m\u001b[38;5;124mAverage_mock\u001b[39m\u001b[38;5;124m\"\u001b[39m]\u001b[38;5;241m=\u001b[39mRMA_vals\u001b[38;5;241m.\u001b[39mapply(\u001b[38;5;28;01mlambda\u001b[39;00m x:\u001b[43mget_fraction\u001b[49m\u001b[43m(\u001b[49m\u001b[43mx\u001b[49m\u001b[43m)\u001b[49m,axis\u001b[38;5;241m=\u001b[39m\u001b[38;5;241m1\u001b[39m)\n",
      "Cell \u001b[1;32mIn[143], line 2\u001b[0m, in \u001b[0;36mget_fraction\u001b[1;34m(row)\u001b[0m\n\u001b[0;32m      1\u001b[0m \u001b[38;5;28;01mdef\u001b[39;00m \u001b[38;5;21mget_fraction\u001b[39m(row):\n\u001b[1;32m----> 2\u001b[0m     \u001b[38;5;28;01mreturn\u001b[39;00m  np\u001b[38;5;241m.\u001b[39mmean([\u001b[43mrow\u001b[49m\u001b[43m[\u001b[49m\u001b[38;5;124;43m'\u001b[39;49m\u001b[38;5;124;43mGSM1077277_POLY-38-1.CEL\u001b[39;49m\u001b[38;5;124;43m'\u001b[39;49m\u001b[43m]\u001b[49m,row[\u001b[38;5;124m'\u001b[39m\u001b[38;5;124mGSM1077278_POLY-38-2.CEL\u001b[39m\u001b[38;5;124m'\u001b[39m]])\u001b[38;5;241m/\u001b[39mnp\u001b[38;5;241m.\u001b[39mmean([row[\u001b[38;5;124m'\u001b[39m\u001b[38;5;124mGSM1077273_TOT-38-1.CEL\u001b[39m\u001b[38;5;124m'\u001b[39m],row[\u001b[38;5;124m'\u001b[39m\u001b[38;5;124mGSM1077274_TOT-38-2.CEL\u001b[39m\u001b[38;5;124m'\u001b[39m]])\n",
      "File \u001b[1;32m~\\miniconda3\\lib\\site-packages\\pandas\\core\\series.py:981\u001b[0m, in \u001b[0;36mSeries.__getitem__\u001b[1;34m(self, key)\u001b[0m\n\u001b[0;32m    978\u001b[0m     \u001b[38;5;28;01mreturn\u001b[39;00m \u001b[38;5;28mself\u001b[39m\u001b[38;5;241m.\u001b[39m_values[key]\n\u001b[0;32m    980\u001b[0m \u001b[38;5;28;01melif\u001b[39;00m key_is_scalar:\n\u001b[1;32m--> 981\u001b[0m     \u001b[38;5;28;01mreturn\u001b[39;00m \u001b[38;5;28;43mself\u001b[39;49m\u001b[38;5;241;43m.\u001b[39;49m\u001b[43m_get_value\u001b[49m\u001b[43m(\u001b[49m\u001b[43mkey\u001b[49m\u001b[43m)\u001b[49m\n\u001b[0;32m    983\u001b[0m \u001b[38;5;28;01mif\u001b[39;00m is_hashable(key):\n\u001b[0;32m    984\u001b[0m     \u001b[38;5;66;03m# Otherwise index.get_value will raise InvalidIndexError\u001b[39;00m\n\u001b[0;32m    985\u001b[0m     \u001b[38;5;28;01mtry\u001b[39;00m:\n\u001b[0;32m    986\u001b[0m         \u001b[38;5;66;03m# For labels that don't resolve as scalars like tuples and frozensets\u001b[39;00m\n",
      "File \u001b[1;32m~\\miniconda3\\lib\\site-packages\\pandas\\core\\series.py:1089\u001b[0m, in \u001b[0;36mSeries._get_value\u001b[1;34m(self, label, takeable)\u001b[0m\n\u001b[0;32m   1086\u001b[0m     \u001b[38;5;28;01mreturn\u001b[39;00m \u001b[38;5;28mself\u001b[39m\u001b[38;5;241m.\u001b[39m_values[label]\n\u001b[0;32m   1088\u001b[0m \u001b[38;5;66;03m# Similar to Index.get_value, but we do not fall back to positional\u001b[39;00m\n\u001b[1;32m-> 1089\u001b[0m loc \u001b[38;5;241m=\u001b[39m \u001b[38;5;28;43mself\u001b[39;49m\u001b[38;5;241;43m.\u001b[39;49m\u001b[43mindex\u001b[49m\u001b[38;5;241;43m.\u001b[39;49m\u001b[43mget_loc\u001b[49m\u001b[43m(\u001b[49m\u001b[43mlabel\u001b[49m\u001b[43m)\u001b[49m\n\u001b[0;32m   1090\u001b[0m \u001b[38;5;28;01mreturn\u001b[39;00m \u001b[38;5;28mself\u001b[39m\u001b[38;5;241m.\u001b[39mindex\u001b[38;5;241m.\u001b[39m_get_values_for_loc(\u001b[38;5;28mself\u001b[39m, loc, label)\n",
      "File \u001b[1;32m~\\miniconda3\\lib\\site-packages\\pandas\\core\\indexes\\base.py:3804\u001b[0m, in \u001b[0;36mIndex.get_loc\u001b[1;34m(self, key, method, tolerance)\u001b[0m\n\u001b[0;32m   3802\u001b[0m     \u001b[38;5;28;01mreturn\u001b[39;00m \u001b[38;5;28mself\u001b[39m\u001b[38;5;241m.\u001b[39m_engine\u001b[38;5;241m.\u001b[39mget_loc(casted_key)\n\u001b[0;32m   3803\u001b[0m \u001b[38;5;28;01mexcept\u001b[39;00m \u001b[38;5;167;01mKeyError\u001b[39;00m \u001b[38;5;28;01mas\u001b[39;00m err:\n\u001b[1;32m-> 3804\u001b[0m     \u001b[38;5;28;01mraise\u001b[39;00m \u001b[38;5;167;01mKeyError\u001b[39;00m(key) \u001b[38;5;28;01mfrom\u001b[39;00m \u001b[38;5;21;01merr\u001b[39;00m\n\u001b[0;32m   3805\u001b[0m \u001b[38;5;28;01mexcept\u001b[39;00m \u001b[38;5;167;01mTypeError\u001b[39;00m:\n\u001b[0;32m   3806\u001b[0m     \u001b[38;5;66;03m# If we have a listlike key, _check_indexing_error will raise\u001b[39;00m\n\u001b[0;32m   3807\u001b[0m     \u001b[38;5;66;03m#  InvalidIndexError. Otherwise we fall through and re-raise\u001b[39;00m\n\u001b[0;32m   3808\u001b[0m     \u001b[38;5;66;03m#  the TypeError.\u001b[39;00m\n\u001b[0;32m   3809\u001b[0m     \u001b[38;5;28mself\u001b[39m\u001b[38;5;241m.\u001b[39m_check_indexing_error(key)\n",
      "\u001b[1;31mKeyError\u001b[0m: 'GSM1077277_POLY-38-1.CEL'"
     ]
    }
   ],
   "source": [
    "RMA_vals[\"Average_mock\"]=RMA_vals.apply(lambda x:get_fraction(x),axis=1)"
   ]
  },
  {
   "cell_type": "code",
   "execution_count": null,
   "id": "331e736c",
   "metadata": {},
   "outputs": [],
   "source": [
    "RMA_vals"
   ]
  },
  {
   "cell_type": "code",
   "execution_count": 134,
   "id": "2de5db37",
   "metadata": {},
   "outputs": [],
   "source": [
    "RMA_finals=dict(zip(RMA_vals[\"ID\"].to_list(),RMA_vals[\"Average_mock\"].to_list()))"
   ]
  },
  {
   "cell_type": "code",
   "execution_count": 18,
   "id": "93d48860",
   "metadata": {},
   "outputs": [],
   "source": [
    "import json"
   ]
  },
  {
   "cell_type": "code",
   "execution_count": 19,
   "id": "1fdca128",
   "metadata": {},
   "outputs": [],
   "source": [
    "with open(r\"C:\\Users\\nwntas\\RCBS_scores.json\") as f:\n",
    "    RCBS=json.load(f)"
   ]
  },
  {
   "cell_type": "code",
   "execution_count": 173,
   "id": "31948fbc",
   "metadata": {},
   "outputs": [],
   "source": [
    "sames=dict(filter(lambda x: not np.isinf(x[0]),sames.items()))"
   ]
  },
  {
   "cell_type": "code",
   "execution_count": 172,
   "id": "3a47776f",
   "metadata": {},
   "outputs": [],
   "source": [
    "sames={RCBS[i]:RMA_finals[i[:-2]] if i[:-2] in RMA_finals.keys() else 0 for i in RCBS.keys() if i[:-2] in heat_genes}"
   ]
  },
  {
   "cell_type": "code",
   "execution_count": 174,
   "id": "a26a543d",
   "metadata": {},
   "outputs": [],
   "source": [
    "sames=dict(filter(lambda x: x[1]!=0,sames.items()))"
   ]
  },
  {
   "cell_type": "code",
   "execution_count": null,
   "id": "f74847a1",
   "metadata": {},
   "outputs": [],
   "source": []
  },
  {
   "cell_type": "code",
   "execution_count": 64,
   "id": "8229ca2c",
   "metadata": {},
   "outputs": [],
   "source": [
    "from sklearn.linear_model import LinearRegression"
   ]
  },
  {
   "cell_type": "code",
   "execution_count": 175,
   "id": "22255555",
   "metadata": {},
   "outputs": [
    {
     "data": {
      "text/plain": [
       "(array([[0.16510476]]), array([-0.00107697]))"
      ]
     },
     "execution_count": 175,
     "metadata": {},
     "output_type": "execute_result"
    }
   ],
   "source": [
    "import numpy as np\n",
    "from sklearn.linear_model import LinearRegression\n",
    "\n",
    "reg = LinearRegression().fit(np.array(list(sames.values())).reshape(-1,1),np.array(list(sames.keys())).reshape(-1,1))\n",
    "reg.coef_,reg.intercept_"
   ]
  },
  {
   "cell_type": "code",
   "execution_count": 176,
   "id": "213f0fcd",
   "metadata": {},
   "outputs": [
    {
     "name": "stderr",
     "output_type": "stream",
     "text": [
      "C:\\Users\\nwntas\\miniconda3\\lib\\site-packages\\seaborn\\_decorators.py:36: FutureWarning: Pass the following variables as keyword args: x, y. From version 0.12, the only valid positional argument will be `data`, and passing other arguments without an explicit keyword will result in an error or misinterpretation.\n",
      "  warnings.warn(\n"
     ]
    },
    {
     "data": {
      "image/png": "[encoded data removed]",
      "text/plain": [
       "<Figure size 640x480 with 1 Axes>"
      ]
     },
     "metadata": {},
     "output_type": "display_data"
    }
   ],
   "source": [
    "fig=sns.scatterplot(x=list(sames.values()),y=list(sames.keys()),color=\"k\")\n",
    "sns.lineplot(list(sames.values()), [float(reg.coef_*i + reg.intercept_) for i in list(sames.values())],linestyle=\"--\")\n",
    "fig.set_xlabel(\"RMA PC/ RMA Total\")\n",
    "fig.set_ylabel(\"RCBS\")\n",
    "#fig.set_ylim([0.0,1.65])\n",
    "plt.savefig(\"RCBS_RMA_heat.tiff\",dpi=300)"
   ]
  },
  {
   "cell_type": "code",
   "execution_count": 177,
   "id": "4ebc8f84",
   "metadata": {},
   "outputs": [
    {
     "name": "stderr",
     "output_type": "stream",
     "text": [
      "C:\\Users\\nwntas\\AppData\\Local\\Temp\\ipykernel_10812\\395593518.py:1: DeprecationWarning: Please use `pearsonr` from the `scipy.stats` namespace, the `scipy.stats.stats` namespace is deprecated.\n",
      "  stats.pearsonr(list(sames.values()),list(sames.keys()))\n"
     ]
    },
    {
     "data": {
      "text/plain": [
       "PearsonRResult(statistic=0.1537347524293221, pvalue=1.8910853615975478e-13)"
      ]
     },
     "execution_count": 177,
     "metadata": {},
     "output_type": "execute_result"
    }
   ],
   "source": [
    "stats.pearsonr(list(sames.values()),list(sames.keys()))"
   ]
  },
  {
   "cell_type": "code",
   "execution_count": 117,
   "id": "59cc187f",
   "metadata": {},
   "outputs": [
    {
     "name": "stdout",
     "output_type": "stream",
     "text": [
      "<function gradient at 0x00000148AC31FF70>\n"
     ]
    }
   ],
   "source": [
    "print(np.gradient)"
   ]
  },
  {
   "cell_type": "code",
   "execution_count": 76,
   "id": "d9a466a6",
   "metadata": {},
   "outputs": [],
   "source": [
    "from scipy.stats import pearsonr"
   ]
  },
  {
   "cell_type": "code",
   "execution_count": null,
   "id": "f2d58b57",
   "metadata": {},
   "outputs": [],
   "source": []
  },
  {
   "cell_type": "code",
   "execution_count": null,
   "id": "2054a651",
   "metadata": {},
   "outputs": [],
   "source": []
  },
  {
   "cell_type": "code",
   "execution_count": null,
   "id": "60288374",
   "metadata": {},
   "outputs": [],
   "source": []
  }
 ],
 "metadata": {
  "kernelspec": {
   "display_name": "Python 3 (ipykernel)",
   "language": "python",
   "name": "python3"
  },
  "language_info": {
   "codemirror_mode": {
    "name": "ipython",
    "version": 3
   },
   "file_extension": ".py",
   "mimetype": "text/x-python",
   "name": "python",
   "nbconvert_exporter": "python",
   "pygments_lexer": "ipython3",
   "version": "3.9.16"
  }
 },
 "nbformat": 4,
 "nbformat_minor": 5
}
